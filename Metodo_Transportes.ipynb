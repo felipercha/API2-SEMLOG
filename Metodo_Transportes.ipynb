{
  "nbformat": 4,
  "nbformat_minor": 0,
  "metadata": {
    "colab": {
      "provenance": [],
      "include_colab_link": true
    },
    "kernelspec": {
      "name": "python3",
      "display_name": "Python 3"
    },
    "language_info": {
      "name": "python"
    }
  },
  "cells": [
    {
      "cell_type": "markdown",
      "metadata": {
        "id": "view-in-github",
        "colab_type": "text"
      },
      "source": [
        "<a href=\"https://colab.research.google.com/github/felipercha/API2-SEMLOG/blob/main/Metodo_Transportes.ipynb\" target=\"_parent\"><img src=\"https://colab.research.google.com/assets/colab-badge.svg\" alt=\"Open In Colab\"/></a>"
      ]
    },
    {
      "cell_type": "code",
      "execution_count": 1,
      "metadata": {
        "id": "M__wtYsZI6h8",
        "outputId": "449dd858-8c1a-41d5-848e-86b725751599",
        "colab": {
          "base_uri": "https://localhost:8080/"
        }
      },
      "outputs": [
        {
          "output_type": "stream",
          "name": "stdout",
          "text": [
            "Collecting pulp\n",
            "  Downloading PuLP-2.9.0-py3-none-any.whl.metadata (5.4 kB)\n",
            "Downloading PuLP-2.9.0-py3-none-any.whl (17.7 MB)\n",
            "\u001b[2K   \u001b[90m━━━━━━━━━━━━━━━━━━━━━━━━━━━━━━━━━━━━━━━━\u001b[0m \u001b[32m17.7/17.7 MB\u001b[0m \u001b[31m77.1 MB/s\u001b[0m eta \u001b[36m0:00:00\u001b[0m\n",
            "\u001b[?25hInstalling collected packages: pulp\n",
            "Successfully installed pulp-2.9.0\n"
          ]
        }
      ],
      "source": [
        "!pip install pulp\n"
      ]
    },
    {
      "cell_type": "code",
      "source": [
        "from pulp import *"
      ],
      "metadata": {
        "id": "LQIw-OOkI_Aq"
      },
      "execution_count": 2,
      "outputs": []
    },
    {
      "cell_type": "code",
      "source": [
        "transp = LpProblem('MinTransporte',LpMinimize)\n"
      ],
      "metadata": {
        "id": "5mnl_Cg3JBze"
      },
      "execution_count": 3,
      "outputs": []
    },
    {
      "cell_type": "code",
      "source": [
        "\n",
        "x11 = LpVariable('x11',lowBound=0 )\n",
        "x12 = LpVariable('x12',lowBound=0)\n",
        "x13 = LpVariable('x13',lowBound=0)\n",
        "x14 = LpVariable('x14',lowBound=0)\n",
        "x15 = LpVariable('x15',lowBound=0)\n",
        "x16 = LpVariable('x16',lowBound=0)\n",
        "x17 = LpVariable('x17',lowBound=0)\n",
        "x18 = LpVariable('x18',lowBound=0)\n",
        "X19 = LpVariable('x19',lowBound=0)\n",
        "x110 = LpVariable('x110',lowBound=0)\n",
        "x111 = LpVariable('x111',lowBound=0)\n",
        "x112 = LpVariable('x112',lowBound=0)\n",
        "x113 = LpVariable('x113',lowBound=0)\n",
        "x114 = LpVariable('x114',lowBound=0)\n",
        "x115 = LpVariable('x115',lowBound=0)\n",
        "x116 = LpVariable('x116',lowBound=0)\n",
        "x117 = LpVariable('x117',lowBound=0)\n",
        "x118 = LpVariable('x118',lowBound=0)\n",
        "x119 = LpVariable('x119',lowBound=0)\n",
        "x120 = LpVariable('x120',lowBound=0)\n",
        "x121 = LpVariable('x121',lowBound=0)\n",
        "x122 = LpVariable('x122',lowBound=0)\n",
        "x123 = LpVariable('x123',lowBound=0)\n",
        "x124 = LpVariable('x124',lowBound=0)\n",
        "x125 = LpVariable('x125',lowBound=0)\n",
        "x126 = LpVariable('x126',lowBound=0)\n",
        "x127 = LpVariable('x127',lowBound=0)\n",
        "x128 = LpVariable('x128',lowBound=0)\n",
        "x129 = LpVariable('x129',lowBound=0)\n",
        "x130 = LpVariable('x130',lowBound=0)\n",
        "x131 = LpVariable('x131',lowBound=0)\n",
        "x132 = LpVariable('x132',lowBound=0)\n",
        "x133 = LpVariable('x133',lowBound=0)\n",
        "x134 = LpVariable('x134',lowBound=0)\n",
        "x135 = LpVariable('x135',lowBound=0)\n",
        "x139 = LpVariable('x139',lowBound=0)\n",
        "x140 = LpVariable('x140',lowBound=0)\n",
        "x141 = LpVariable('x141',lowBound=0)\n",
        "x142 = LpVariable('x142',lowBound=0)\n",
        "x143 = LpVariable('x143',lowBound=0)\n",
        "x144 = LpVariable('x144',lowBound=0)\n",
        "x145 = LpVariable('x145',lowBound=0)\n",
        "x146 = LpVariable('x146',lowBound=0)\n",
        "x147 = LpVariable('x147',lowBound=0)\n",
        "x148 = LpVariable('x148',lowBound=0)\n",
        "x149 = LpVariable('x149',lowBound=0)\n",
        "x150 = LpVariable('x150',lowBound=0)\n",
        "x151 = LpVariable('x151',lowBound=0)\n",
        "x25 = LpVariable\n",
        "x28 = LpVariable\n",
        "x29 = LpVariable\n",
        "x210 = LpVariable\n",
        "x211 = LpVariable\n",
        "x224 = LpVariable\n",
        "x226 = LpVariable\n",
        "x227 = LpVariable\n",
        "x228 = LpVariable\n",
        "x229 = LpVariable\n",
        "x230 = LpVariable\n",
        "x231 = LpVariable\n",
        "x232 = LpVariable\n",
        "x233 = LpVariable\n",
        "x234 = LpVariable\n",
        "x235 = LpVariable\n",
        "x236 = LpVariable\n",
        "x237 = LpVariable\n",
        "x238 = LpVariable\n",
        "x239 = LpVariable\n",
        "x240 = LpVariable\n",
        "x241 = LpVariable\n",
        "x241 = LpVariable\n",
        "x243 = LpVariable\n",
        "x247 = LpVariable\n",
        "x248 = LpVariable\n",
        "x249 = LpVariable\n",
        "x250 = LpVariable\n",
        "x251 = LpVariable\n",
        "x31 = LpVariable\n",
        "x32 = LpVariable\n",
        "x33 = LpVariable\n",
        "x34 = LpVariable\n",
        "x35 = LpVariable\n",
        "x36 = LpVariable\n",
        "x37 = LpVariable\n",
        "x38 = LpVariable\n",
        "x39 = LpVariable\n",
        "x310 = LpVariable\n",
        "x311 = LpVariable\n",
        "x319 = LpVariable\n",
        "x320 = LpVariable\n",
        "x321 = LpVariable\n",
        "x322 = LpVariable\n",
        "x323 = LpVariable\n",
        "x324 = LpVariable\n",
        "x325 = LpVariable\n",
        "x326 = LpVariable\n",
        "x327 = LpVariable\n",
        "x328 = LpVariable\n",
        "x329 = LpVariable\n",
        "x331 = LpVariable\n",
        "x332 = LpVariable\n",
        "x333 = LpVariable\n",
        "x334 = LpVariable\n",
        "x335 = LpVariable\n",
        "x336 = LpVariable\n",
        "x337 = LpVariable\n",
        "x338 = LpVariable\n",
        "x344 = LpVariable\n",
        "x345 = LpVariable\n",
        "x346 = LpVariable\n",
        "x347 = LpVariable\n",
        "x348 = LpVariable\n",
        "x349 = LpVariable\n",
        "x350 = LpVariable\n",
        "x351 = LpVariable\n",
        "\n"
      ],
      "metadata": {
        "id": "pvfrpcZIJJko"
      },
      "execution_count": null,
      "outputs": []
    },
    {
      "cell_type": "code",
      "source": [
        "transp += 30*x11+35*x12+35*x13+20*x21+30*x22+30*x23+25*x31+32*x32+32*x33"
      ],
      "metadata": {
        "id": "grP0g18yJiuy"
      },
      "execution_count": null,
      "outputs": []
    },
    {
      "cell_type": "code",
      "source": [
        "transp += x11 + x12 + x13 <= 3500\n",
        "transp += x21 + x22 + x23 <= 2500\n",
        "transp += x31 + x32 + x33 <= 1000"
      ],
      "metadata": {
        "id": "9KwQYCffJve9"
      },
      "execution_count": null,
      "outputs": []
    },
    {
      "cell_type": "code",
      "source": [
        "transp += x11 + x21 + x31 == 2500\n",
        "transp += x12 + x22 + x32 == 2000\n",
        "transp += x13 + x23 + x33 == 1500"
      ],
      "metadata": {
        "id": "TjAC8kBeKBM1"
      },
      "execution_count": null,
      "outputs": []
    },
    {
      "cell_type": "code",
      "source": [
        "transp"
      ],
      "metadata": {
        "id": "Zw4VtqcEKH9l"
      },
      "execution_count": null,
      "outputs": []
    },
    {
      "cell_type": "code",
      "source": [
        "transp.solve()"
      ],
      "metadata": {
        "id": "_ytOGRWMKImZ"
      },
      "execution_count": null,
      "outputs": []
    },
    {
      "cell_type": "code",
      "source": [
        "for v in transp.variables(): print (v.name, '=', v.varValue)"
      ],
      "metadata": {
        "id": "nbbatRagKM3q"
      },
      "execution_count": null,
      "outputs": []
    },
    {
      "cell_type": "code",
      "source": [
        "print('Resultado do custo de transporte =', value(transp.objective))"
      ],
      "metadata": {
        "id": "b0IERr64KVBE"
      },
      "execution_count": null,
      "outputs": []
    },
    {
      "cell_type": "code",
      "source": [
        "print('Resultado do custo de transporte =', value(transp.objective)*10)"
      ],
      "metadata": {
        "id": "5QnXqnv-Klcu"
      },
      "execution_count": null,
      "outputs": []
    },
    {
      "cell_type": "code",
      "source": [],
      "metadata": {
        "id": "zonkSpmsK1Az"
      },
      "execution_count": null,
      "outputs": []
    }
  ]
}